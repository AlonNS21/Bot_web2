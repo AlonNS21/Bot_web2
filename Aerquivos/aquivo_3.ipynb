{
 "cells": [
  {
   "cell_type": "markdown",
   "metadata": {},
   "source": [
    "Funções do bot"
   ]
  },
  {
   "cell_type": "code",
   "execution_count": null,
   "metadata": {},
   "outputs": [],
   "source": [
    "# Funções do bot\n",
    "\n",
    "# welcome_text.py\n",
    "\n",
    "def get_welcome_message(user_first_name):\n",
    "    return (\n",
    "        f\"Olá, {user_first_name}! Eu sou um bot de exemplo. Aqui estão algumas coisas que eu posso fazer:\\n\\n\"\n",
    "        \"01 - AVR\\n\"\n",
    "        \"02 - AVR Maior DAC\\n\"\n",
    "        \"03 - AVR Menor DAC\\n\"\n",
    "        \"04 - AVR Zerada\\n\"\n",
    "        \"05 - BB Poupança\\n\"\n",
    "        \"06 - Boleto BRB\\n\"\n",
    "        \"07 - Cadastro de Agência Bancária\\n\"\n",
    "        \"08 - Caixa Poupança\\n\"\n",
    "        \"09 - Credor\\n\"\n",
    "        \"10 - DAC\\n\"\n",
    "        \"11 - DAC RSS Negativa\\n\"\n",
    "        \"12 - DAC Zerada\\n\"\n",
    "        \"13 - DAE BRB\\n\"\n",
    "        \"14 - Devolver Alvará\\n\"\n",
    "        \"15 - DR \\n\"\n",
    "        \"16 - DR (mínimo 2)\\n\"\n",
    "        \"17 - Email BRB\\n\"\n",
    "        \"18 - Fechamento Receita Integrada\\n\"\n",
    "        \"19 - Inativar Conta Bancária\\n\"\n",
    "        \"20 - NEX\\n\"\n",
    "        \"21 - NOB\\n\"\n",
    "        \"22 - NOE\\n\"\n",
    "        \"23 - Número do Credor\\n\"\n",
    "        \"24 - Número do Documento\\n\"\n",
    "        \"25 - Pagamento DETRAN\\n\"\n",
    "        \"26 - Pagamento de Fatura\\n\"\n",
    "        \"27 - Pagamento Não Efetivado\\n\"\n",
    "        \"28 - PED\\n\"\n",
    "        \"29 - Receita Integrada\\n\"\n",
    "        \"30 - Resetar Senha de Rede\\n\"\n",
    "        \"31 - RSS\\n\"\n",
    "        \"32 - RSS Zerada\\n\"\n",
    "        \"33 - Ramal de Telefone\\n\"\n",
    "        \"34 - Rotina BRB\\n\"\n",
    "        \"35 - Rotina Depósito Judicial\\n\"\n",
    "        \"36 - Sistema Fiplan\\n\"\n",
    "        \"37 - Unidade Gestora Executora\\n\"\n",
    "        \"38 - Concluir Processo\\n\"\n",
    "        \"39 - Ativar Credor\\n\"\n",
    "        \"40 - Credor\\n\"\n",
    "        \"41 - Pagamento de Fatura\\n\"\n",
    "\n",
    "\n",
    "    )\n"
   ]
  },
  {
   "cell_type": "markdown",
   "metadata": {},
   "source": [
    "saudação"
   ]
  },
  {
   "cell_type": "code",
   "execution_count": null,
   "metadata": {},
   "outputs": [],
   "source": [
    " # Lista de mensagens de saudação\n",
    " \n",
    " \n",
    " if any(token.text in ['oi', 'olá', 'ola', 'e', 'ai', 'fala', 'ei', 'ou'] for token in doc):\n",
    "        mensagem_escolhida = random.choice(mensagens_saudacao(message.from_user.first_name))\n",
    "        bot.send_message(message.chat.id, mensagem_escolhida)\n",
    "        \n",
    "def mensagens_saudacao(author):\n",
    "    return [\n",
    "        f\"E ai {author}, beleza, em que posso te ajudar?\",\n",
    "        f\"Fala {author}, como posso ajudar?\",\n",
    "        f\"Oi {author}, tudo bem? Em que posso ser útil?\",\n",
    "        f\"Olá {author}, estou aqui para te ajudar, o que você precisa?\",\n",
    "        f\"Hey {author}, como posso ser útil hoje?\",\n",
    "        f\"Saudações {author}, em que posso te auxiliar?\",\n",
    "        f\"Olá {author}, o que você precisa?\"\n",
    "        f\"Hey! {author}, Como vai? Vamos espalhar um pouco de magia por aí? zueira em que posso ajudar?\",\n",
    "        f\"Oi, {author}, beleza? Estou aqui para te guiar o que você precisa?\",\n",
    "        f\"{author}, e aí, meu chapa! Preparado para dominar o domínio? kkkk, o que vai querer saber hoje\",\n",
    "        f\"Olá! {author}, como anda a vida? estou pronto para te auxiliar hoje?\",\n",
    "        f\"{author} parceiro(a)! Vamos botar pra quebrar?  o que vai ser hoje\",\n",
    "        f\"{author}? e aí, chuchu! Pronto para bater um papo?\",\n",
    "        f\"Olá, {author} Estou à disposição para te auxiliar!\",\n",
    "        f\"{author}, tudo tranquilo? Estou aqui para te ajudar, firme e forte!\",\n",
    "        f\"Ei, {author}! Tô aqui para desenrolar qualquer situação!\",\n",
    "        f\"Hey, {author} ,beleza? Estou pronto para te dar uma força!\",\n",
    "        f\"Olá, pipoca! Bora resolver essas paradas?\",\n",
    "        f\"Oi, pão na chapa! Como posso facilitar o seu dia?\",\n",
    "        f\"Olá, ovo frito! Estou à disposição para te auxiliar!\",\n",
    "    ]\n"
   ]
  },
  {
   "cell_type": "markdown",
   "metadata": {},
   "source": [
    "Senhas"
   ]
  },
  {
   "cell_type": "code",
   "execution_count": null,
   "metadata": {},
   "outputs": [],
   "source": [
    "\n",
    "dados = [\n",
    "        ('Alisson', 'SEI', 'ainascimento@sefaz.ba.gov.br', 'SantAli0721'),\n",
    "        ('Alisson', 'PC', 'ainascimento', 'SantAli0721/'),\n",
    "        ('Clara', 'SIPRO', 'csilva', 'Misha50'),\n",
    "        ('Clara', 'SIGAT', 'csilva', 'Misha97'),\n",
    "        ('Leila', 'PC', 'leribeiro', 'Acreditar13016*'),\n",
    "        ('Leila', 'FIPLAN', 'CPF: 03', 'Acreditar13013*'),\n",
    "        ('Marcelo', 'FIPLAN', 'CPF: 9494', '197701'),\n",
    "        ('RAIMUNDO', 'FIPLAN', 'CPF: ****', '******'),]\n",
    "        # Adicione mais linhas conforme necessário"
   ]
  }
 ],
 "metadata": {
  "language_info": {
   "name": "python"
  }
 },
 "nbformat": 4,
 "nbformat_minor": 2
}
